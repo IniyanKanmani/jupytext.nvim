{
 "cells": [
  {
   "cell_type": "markdown",
   "id": "c7a7bade",
   "metadata": {},
   "source": [
    "# Paired Notebook (Julia)"
   ]
  },
  {
   "cell_type": "markdown",
   "id": "95898991",
   "metadata": {},
   "source": [
    "This is a paired notebook"
   ]
  },
  {
   "cell_type": "code",
   "execution_count": 1,
   "id": "0a918898-20eb-425a-b754-af2b1518e2c2",
   "metadata": {
    "execution": {
     "iopub.execute_input": "2024-12-16T09:19:43.137",
     "iopub.status.busy": "2024-12-16T09:19:42.935",
     "iopub.status.idle": "2024-12-16T09:19:43.425",
     "shell.execute_reply": "2024-12-16T09:19:43.411"
    }
   },
   "outputs": [
    {
     "data": {
      "text/plain": [
       "1"
      ]
     },
     "execution_count": 1,
     "metadata": {},
     "output_type": "execute_result"
    }
   ],
   "source": [
    "x = 1"
   ]
  },
  {
   "cell_type": "code",
   "execution_count": 2,
   "id": "460b41fb",
   "metadata": {
    "execution": {
     "iopub.execute_input": "2024-12-16T09:19:43.425",
     "iopub.status.busy": "2024-12-16T09:19:43.425",
     "iopub.status.idle": "2024-12-16T09:19:43.426",
     "shell.execute_reply": "2024-12-16T09:19:43.426"
    }
   },
   "outputs": [
    {
     "data": {
      "text/plain": [
       "2"
      ]
     },
     "execution_count": 2,
     "metadata": {},
     "output_type": "execute_result"
    }
   ],
   "source": [
    "x + 1"
   ]
  },
  {
   "cell_type": "code",
   "execution_count": 3,
   "id": "972293e8",
   "metadata": {
    "execution": {
     "iopub.execute_input": "2024-12-16T09:19:43.426",
     "iopub.status.busy": "2024-12-16T09:19:43.426",
     "iopub.status.idle": "2024-12-16T09:19:43.432",
     "shell.execute_reply": "2024-12-16T09:19:43.432"
    }
   },
   "outputs": [
    {
     "name": "stdout",
     "output_type": "stream",
     "text": [
      "Hello World"
     ]
    }
   ],
   "source": [
    "print(\"Hello World\")"
   ]
  },
  {
   "cell_type": "markdown",
   "id": "d6a3eecd",
   "metadata": {},
   "source": [
    "It should have `jupytext` metadata."
   ]
  }
 ],
 "metadata": {
  "jupytext": {
   "formats": "ipynb,jl:percent"
  },
  "kernelspec": {
   "display_name": "Julia 1.11.2",
   "language": "julia",
   "name": "julia-1.11"
  },
  "language_info": {
   "file_extension": ".jl",
   "mimetype": "application/julia",
   "name": "julia",
   "version": "1.11.2"
  }
 },
 "nbformat": 4,
 "nbformat_minor": 5
}
