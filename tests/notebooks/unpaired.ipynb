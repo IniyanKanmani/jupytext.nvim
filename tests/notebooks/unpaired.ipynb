{
 "cells": [
  {
   "cell_type": "markdown",
   "id": "0b0ddd66-850b-4e10-a3f3-ed26a1b45ec7",
   "metadata": {},
   "source": [
    "# Unpaired Notebook"
   ]
  },
  {
   "cell_type": "markdown",
   "id": "56671a89-4b1f-46f4-b127-91847ddb7a35",
   "metadata": {},
   "source": [
    "This is an unpaired notebook."
   ]
  },
  {
   "cell_type": "code",
   "execution_count": 1,
   "id": "869ddff4-2b70-43d7-9f1f-3dd7188fe246",
   "metadata": {
    "execution": {
     "iopub.execute_input": "2024-12-05T19:10:42.630105Z",
     "iopub.status.busy": "2024-12-05T19:10:42.629675Z",
     "iopub.status.idle": "2024-12-05T19:10:42.635743Z",
     "shell.execute_reply": "2024-12-05T19:10:42.634611Z",
     "shell.execute_reply.started": "2024-12-05T19:10:42.630077Z"
    }
   },
   "outputs": [],
   "source": [
    "x = 1"
   ]
  },
  {
   "cell_type": "code",
   "execution_count": 2,
   "id": "b6ef69ce-616f-421e-849a-b1ffcb6d4c10",
   "metadata": {
    "execution": {
     "iopub.execute_input": "2024-12-05T20:23:38.327491Z",
     "iopub.status.busy": "2024-12-05T20:23:38.326909Z",
     "iopub.status.idle": "2024-12-05T20:23:38.335909Z",
     "shell.execute_reply": "2024-12-05T20:23:38.333672Z",
     "shell.execute_reply.started": "2024-12-05T20:23:38.327456Z"
    }
   },
   "outputs": [
    {
     "name": "stdout",
     "output_type": "stream",
     "text": [
      "Hello World\n"
     ]
    }
   ],
   "source": [
    "print(\"Hello World\")"
   ]
  },
  {
   "cell_type": "markdown",
   "id": "12302f49-cac5-45b0-b7e3-d5b50d217278",
   "metadata": {},
   "source": [
    "It should not have `jupytext` metadata."
   ]
  }
 ],
 "metadata": {
  "kernelspec": {
   "display_name": "Python 3 (ipykernel)",
   "language": "python",
   "name": "python3"
  },
  "language_info": {
   "codemirror_mode": {
    "name": "ipython",
    "version": 3
   },
   "file_extension": ".py",
   "mimetype": "text/x-python",
   "name": "python",
   "nbconvert_exporter": "python",
   "pygments_lexer": "ipython3",
   "version": "3.12.7"
  }
 },
 "nbformat": 4,
 "nbformat_minor": 5
}
