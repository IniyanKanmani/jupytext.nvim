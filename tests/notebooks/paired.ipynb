{
 "cells": [
  {
   "cell_type": "markdown",
   "id": "2e827ebb-5d8a-491f-9e62-c680be25c27a",
   "metadata": {},
   "source": [
    "# Paired Notebook"
   ]
  },
  {
   "cell_type": "markdown",
   "id": "cfb8907f-324c-408a-8a8b-a7ff6340d3be",
   "metadata": {},
   "source": [
    "This is a paired notebook"
   ]
  },
  {
   "cell_type": "code",
   "execution_count": 1,
   "id": "404894a9-4a0c-4d27-a869-981b5ddb34ea",
   "metadata": {
    "execution": {
     "iopub.execute_input": "2024-12-16T13:46:25.015919Z",
     "iopub.status.busy": "2024-12-16T13:46:25.014031Z",
     "iopub.status.idle": "2024-12-16T13:46:25.021865Z",
     "shell.execute_reply": "2024-12-16T13:46:25.021488Z",
     "shell.execute_reply.started": "2024-12-16T13:46:25.015871Z"
    }
   },
   "outputs": [],
   "source": [
    "x = 1"
   ]
  },
  {
   "cell_type": "code",
   "execution_count": 2,
   "id": "5d1ddd99-f307-4184-81b0-6265f23abf0e",
   "metadata": {
    "execution": {
     "iopub.execute_input": "2024-12-16T13:46:25.022551Z",
     "iopub.status.busy": "2024-12-16T13:46:25.022408Z",
     "iopub.status.idle": "2024-12-16T13:46:25.026843Z",
     "shell.execute_reply": "2024-12-16T13:46:25.026542Z",
     "shell.execute_reply.started": "2024-12-16T13:46:25.022533Z"
    }
   },
   "outputs": [
    {
     "data": {
      "text/plain": [
       "2"
      ]
     },
     "execution_count": 2,
     "metadata": {},
     "output_type": "execute_result"
    }
   ],
   "source": [
    "x + 1"
   ]
  },
  {
   "cell_type": "code",
   "execution_count": 3,
   "id": "d0236586-bb9e-4d24-a46d-2d67dba67ec9",
   "metadata": {
    "execution": {
     "iopub.execute_input": "2024-12-16T13:46:25.027473Z",
     "iopub.status.busy": "2024-12-16T13:46:25.027379Z",
     "iopub.status.idle": "2024-12-16T13:46:25.029438Z",
     "shell.execute_reply": "2024-12-16T13:46:25.029048Z",
     "shell.execute_reply.started": "2024-12-16T13:46:25.027463Z"
    }
   },
   "outputs": [
    {
     "name": "stdout",
     "output_type": "stream",
     "text": [
      "Hello World\n"
     ]
    }
   ],
   "source": [
    "print(\"Hello World\")"
   ]
  },
  {
   "cell_type": "markdown",
   "id": "0041a9aa-0708-498c-80e6-db985095c588",
   "metadata": {
    "execution": {
     "iopub.execute_input": "2024-12-16T13:46:25.029914Z",
     "iopub.status.busy": "2024-12-16T13:46:25.029842Z",
     "iopub.status.idle": "2024-12-16T13:46:25.032547Z",
     "shell.execute_reply": "2024-12-16T13:46:25.031931Z",
     "shell.execute_reply.started": "2024-12-16T13:46:25.029906Z"
    }
   },
   "source": [
    "It should have `jupytext` metadata."
   ]
  }
 ],
 "metadata": {
  "jupytext": {
   "formats": "ipynb,py:light,md:myst"
  },
  "kernelspec": {
   "display_name": "Python 3 (ipykernel)",
   "language": "python",
   "name": "python3"
  },
  "language_info": {
   "codemirror_mode": {
    "name": "ipython",
    "version": 3
   },
   "file_extension": ".py",
   "mimetype": "text/x-python",
   "name": "python",
   "nbconvert_exporter": "python",
   "pygments_lexer": "ipython3",
   "version": "3.12.7"
  }
 },
 "nbformat": 4,
 "nbformat_minor": 5
}
