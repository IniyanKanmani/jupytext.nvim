{
 "cells": [
  {
   "cell_type": "markdown",
   "id": "dc4f791a-c81c-40ab-bf08-3c6b5ba77e30",
   "metadata": {
    "cell_marker": "\"\"\""
   },
   "source": [
    "# Untitled"
   ]
  },
  {
   "cell_type": "code",
   "execution_count": null,
   "id": "0989c7a2-bd7b-465f-a202-3cd4298afc78",
   "metadata": {
    "lines_to_next_cell": 2
   },
   "outputs": [],
   "source": []
  }
 ],
 "metadata": {
  "kernelspec": {
   "display_name": "Python 3 (ipykernel)",
   "language": "python",
   "name": "python3"
  },
  "language_info": {
   "codemirror_mode": {
    "name": "ipython",
    "version": 3
   },
   "file_extension": ".py",
   "mimetype": "text/x-python",
   "name": "python",
   "nbconvert_exporter": "python",
   "pygments_lexer": "ipython3",
   "version": "3.12.7"
  }
 },
 "nbformat": 4,
 "nbformat_minor": 5
}
